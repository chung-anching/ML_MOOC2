{
  "nbformat": 4,
  "nbformat_minor": 0,
  "metadata": {
    "accelerator": "GPU",
    "colab": {
      "name": "13.2_K-Means_Sample.ipynb",
      "provenance": []
    },
    "kernelspec": {
      "display_name": "Python 3",
      "name": "python3"
    },
    "language_info": {
      "name": "python"
    }
  },
  "cells": [
    {
      "cell_type": "code",
      "metadata": {
        "id": "8_rhXl3cFazm"
      },
      "source": [
        "#基本範例\n",
        "from sklearn.cluster import KMeans\n",
        "import numpy as np\n"
      ],
      "execution_count": null,
      "outputs": []
    },
    {
      "cell_type": "code",
      "metadata": {
        "id": "5xpPTyWoFgIi"
      },
      "source": [
        "X = np.array([[1, 2], [1, 4], [1, 0], [10, 2], [10, 4], [10, 0]])\n",
        "kmeans = KMeans(n_clusters=2).fit(X)\n"
      ],
      "execution_count": null,
      "outputs": []
    },
    {
      "cell_type": "code",
      "metadata": {
        "colab": {
          "base_uri": "https://localhost:8080/"
        },
        "id": "B1NNoNZ0Fhjj",
        "outputId": "5b4ea7ad-938d-4da4-f30c-dfceb5765f99"
      },
      "source": [
        "print(kmeans.labels_)            #顯示分類結果(x座標為0的一群、x=10的為另一群)\n",
        "print(kmeans.predict([[0, 0], [12, 3]])) # 預測[[0, 0], [12, 3]]的分類\n",
        "print(kmeans.cluster_centers_)        # 顯示中心點的距離"
      ],
      "execution_count": null,
      "outputs": [
        {
          "output_type": "stream",
          "text": [
            "[1 1 1 0 0 0]\n",
            "[1 0]\n",
            "[[10.  2.]\n",
            " [ 1.  2.]]\n"
          ],
          "name": "stdout"
        }
      ]
    },
    {
      "cell_type": "markdown",
      "metadata": {
        "id": "LoIduLfoFmuR"
      },
      "source": [
        "# '''----------------------------------------------------------------'''\n",
        "# Iris資料分群應用"
      ]
    },
    {
      "cell_type": "code",
      "metadata": {
        "id": "Tf4XMMVJFjpH"
      },
      "source": [
        "from sklearn.datasets import load_iris"
      ],
      "execution_count": null,
      "outputs": []
    },
    {
      "cell_type": "code",
      "metadata": {
        "colab": {
          "base_uri": "https://localhost:8080/"
        },
        "id": "kBeK83PSFtnc",
        "outputId": "f76a9d00-7acf-4cac-d936-b24d092b4ee7"
      },
      "source": [
        "data = load_iris()\n",
        "x=data['data']\n",
        "y=data['target']\n",
        "\n",
        "from sklearn.cluster import KMeans\n",
        "kmeans = KMeans(n_clusters=3).fit(x)  #分成三類\n",
        "# 對比原本分群與kmeans結果\n",
        "for i in range(3):\n",
        "    print('cluster'+str(i)+': ', kmeans.labels_[y==i], end='\\n\\n')\n",
        "\n",
        "# 原本label為1的被分到cluster0\n",
        "# 原本label為2的被分到cluster1\n",
        "# cluster2 有很多0被誤認為是2\n"
      ],
      "execution_count": null,
      "outputs": [
        {
          "output_type": "stream",
          "text": [
            "cluster0:  [1 1 1 1 1 1 1 1 1 1 1 1 1 1 1 1 1 1 1 1 1 1 1 1 1 1 1 1 1 1 1 1 1 1 1 1 1\n",
            " 1 1 1 1 1 1 1 1 1 1 1 1 1]\n",
            "\n",
            "cluster1:  [2 2 0 2 2 2 2 2 2 2 2 2 2 2 2 2 2 2 2 2 2 2 2 2 2 2 2 0 2 2 2 2 2 2 2 2 2\n",
            " 2 2 2 2 2 2 2 2 2 2 2 2 2]\n",
            "\n",
            "cluster2:  [0 2 0 0 0 0 2 0 0 0 0 0 0 2 2 0 0 0 0 2 0 2 0 2 0 0 2 2 0 0 0 0 0 2 0 0 0\n",
            " 0 2 0 0 0 2 0 0 0 2 0 0 2]\n",
            "\n"
          ],
          "name": "stdout"
        }
      ]
    },
    {
      "cell_type": "markdown",
      "metadata": {
        "id": "PYnA-YzfF1wo"
      },
      "source": [
        "# '''----------------------------------------------------------------'''\n",
        "# 影像分群應用\n",
        "### 彩色、亮度分群"
      ]
    },
    {
      "cell_type": "code",
      "metadata": {
        "colab": {
          "base_uri": "https://localhost:8080/"
        },
        "id": "a7sZenx5qvVE",
        "outputId": "f4925171-6a70-415f-c01a-63281103bb35"
      },
      "source": [
        "from google.colab import drive\n",
        "drive.mount('/content/drive')"
      ],
      "execution_count": null,
      "outputs": [
        {
          "output_type": "stream",
          "text": [
            "Mounted at /content/drive\n"
          ],
          "name": "stdout"
        }
      ]
    },
    {
      "cell_type": "code",
      "metadata": {
        "id": "GigXnfkqFyNb"
      },
      "source": [
        "from cv2 import cv2, os\n",
        "\n",
        "files=os.listdir('drive/MyDrive/Colab Notebooks/機器學習周信宏/第13章/image')\n",
        "x=[]\n",
        "for file in files:\n",
        "    img = cv2.imread('drive/MyDrive/Colab Notebooks/機器學習周信宏/第13章/image/' + file)\n",
        "    lab = cv2.cvtColor(img, cv2.COLOR_BGR2LAB)\n",
        "    hist = cv2.calcHist(\n",
        "            [lab],\n",
        "            [0, 1, 2],\n",
        "            None,\n",
        "            [8,8,8],  # 將3通道值的頻率統計成直方圖，每通道8個直方圖\n",
        "            [0, 256, 0, 256, 0, 256])\n",
        "    hist = cv2.normalize(hist, None).ravel()\n",
        "    x.append(hist)\n",
        "\n",
        "from sklearn.cluster import KMeans\n",
        "import numpy as np\n",
        "import shutil\n",
        "\n",
        "kmeans = KMeans(n_clusters=10).fit(x)\n",
        "#for i in range(10):\n",
        "#    os.mkdir('drive/MyDrive/Colab Notebooks/機器學習周信宏/第13章/output_K-Means/'+str(i))\n",
        "for i in range(10):\n",
        "    for j in np.where(kmeans.labels_==i)[0]:\n",
        "       shutil.copyfile('drive/MyDrive/Colab Notebooks/機器學習周信宏/第13章/image/'+files[j], 'drive/MyDrive/Colab Notebooks/機器學習周信宏/第13章/output_K-Means/'+str(i)+'/'+files[j])"
      ],
      "execution_count": null,
      "outputs": []
    },
    {
      "cell_type": "code",
      "metadata": {
        "colab": {
          "background_save": true
        },
        "id": "etKI5xexGCfZ"
      },
      "source": [
        "import os"
      ],
      "execution_count": null,
      "outputs": []
    },
    {
      "cell_type": "code",
      "metadata": {
        "id": "9ylKueAFsKoA"
      },
      "source": [
        "yourPath = 'C:\\Users\\安\\Desktop\\jupyter workspace\\Python-3-Data-Analysis-Basics-master\\機器學習實務_周信宏政大MOOC\\13-2_K-means\\'"
      ],
      "execution_count": null,
      "outputs": []
    },
    {
      "cell_type": "code",
      "metadata": {
        "id": "J-xxnXaqsXDn"
      },
      "source": [
        "allFileList = os.listdir(yourPath)"
      ],
      "execution_count": null,
      "outputs": []
    },
    {
      "cell_type": "code",
      "metadata": {
        "id": "NBapqMwqsXjk"
      },
      "source": [
        "for file in allFileList:\n",
        "\n",
        "#   這邊也可以視情況，做檔案的操作(複製、讀取...等)\n",
        "#   使用isdir檢查是否為目錄\n",
        "#   使用join的方式把路徑與檔案名稱串起來(等同filePath+fileName)\n",
        "\n",
        "  if os.path.isdir(os.path.join(yourPath,file)):\n",
        "\n",
        "    print(\"I'm a directory: \" + file)\n",
        "\n",
        "#   使用isfile判斷是否為檔案\n",
        "\n",
        "  elif os.path.isfile(yourPath+file):\n",
        "    print(file)\n",
        "\n",
        "  else:\n",
        "\n",
        "    print('OH MY GOD !!')"
      ],
      "execution_count": null,
      "outputs": []
    },
    {
      "cell_type": "code",
      "metadata": {
        "id": "e_XRi9qysxyr"
      },
      "source": [
        "import os\n",
        "\n",
        "# 指定要查詢的路徑\n",
        "yourPath = '\\C:\\Users\\安\\Desktop\\jupyter workspace\\Python-3-Data-Analysis-Basics-master\\機器學習實務_周信宏政大MOOC\\13-2_K-means\\'\n",
        "\n",
        "# 列出指定路徑底下所有檔案(包含資料夾)\n",
        "allFileList = os.listdir(yourPath)\n",
        "\n",
        "# 逐一查詢檔案清單\n",
        "for file in allFileList:\n",
        "\n",
        "#   這邊也可以視情況，做檔案的操作(複製、讀取...等)\n",
        "#   使用isdir檢查是否為目錄\n",
        "#   使用join的方式把路徑與檔案名稱串起來(等同filePath+fileName)\n",
        "\n",
        "  if os.path.isdir(os.path.join(yourPath,file)):\n",
        "    print(\"I'm a directory: \" + file)\n",
        "\n",
        "#   使用isfile判斷是否為檔案\n",
        "  elif os.path.isfile(yourPath+file):\n",
        "    print(file)\n",
        "\n",
        "  else:\n",
        "    print('OH MY GOD !!')\n",
        "\n",
        " \n",
        "\n",
        "# 與listdir不同的是，listdir只是將指定路徑底下的目錄和檔案列出來\n",
        "# walk的方式則會將指定路徑底下所有的目錄與檔案都列出來(包含子目錄以及子目錄底下的檔案)\n",
        "\n",
        "allList = os.walk(yourPath)\n",
        "\n",
        "# 列出所有子目錄與子目錄底下所有的檔案\n",
        "for root, dirs, files in allList:\n",
        "\n",
        "#   列出目前讀取到的路徑\n",
        "  print(\"path：\", root)\n",
        "\n",
        "#   列出在這個路徑下讀取到的資料夾(第一層讀完才會讀第二層)\n",
        "  print(\"directory：\", dirs)\n",
        "\n",
        "#   列出在這個路徑下讀取到的所有檔案\n",
        "  print(\"file：\", files)"
      ],
      "execution_count": null,
      "outputs": []
    }
  ]
}